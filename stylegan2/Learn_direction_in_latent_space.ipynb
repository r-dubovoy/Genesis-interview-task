{
 "cells": [
  {
   "cell_type": "code",
   "execution_count": null,
   "metadata": {},
   "outputs": [],
   "source": [
    "import pickle\n",
    "import numpy as np\n",
    "import pandas as pd\n",
    "from tqdm import tqdm"
   ]
  },
  {
   "cell_type": "markdown",
   "metadata": {},
   "source": [
    "The main purpose of this notebook is to find direction vector from paired dataset of (dlatents, image, label)"
   ]
  },
  {
   "cell_type": "markdown",
   "metadata": {},
   "source": [
    "# Loading data"
   ]
  },
  {
   "cell_type": "code",
   "execution_count": null,
   "metadata": {},
   "outputs": [],
   "source": [
    "df = pd.read_csv('data.tsv', sep='\\t')\n",
    "\n",
    "df['attribute'] = (df.label == 'male').astype(int)\n",
    "df['dlatents'] = None\n",
    "\n",
    "results_folder_path = 'results'"
   ]
  },
  {
   "cell_type": "code",
   "execution_count": null,
   "metadata": {},
   "outputs": [],
   "source": [
    "for i in tqdm(range(df.shape[0])):\n",
    "    key = df.key.iloc[i]\n",
    "    try:\n",
    "        df.dlatents.iloc[i] = np.load(f'{results_folder_path}/dlatents/{key}.npy')\n",
    "    except:\n",
    "        pass"
   ]
  },
  {
   "cell_type": "code",
   "execution_count": null,
   "metadata": {},
   "outputs": [],
   "source": [
    "df = df.dropna(subset=['dlatents'])\n",
    "\n",
    "df.attribute.value_counts()"
   ]
  },
  {
   "cell_type": "code",
   "execution_count": null,
   "metadata": {},
   "outputs": [],
   "source": [
    "X_data = np.vstack(df.dlatents.values)\n",
    "y_data = df.attribute.values"
   ]
  },
  {
   "cell_type": "markdown",
   "metadata": {},
   "source": [
    "### Evaluating model performance"
   ]
  },
  {
   "cell_type": "code",
   "execution_count": null,
   "metadata": {},
   "outputs": [],
   "source": [
    "from sklearn.linear_model import LogisticRegression, SGDClassifier\n",
    "from sklearn.model_selection import StratifiedKFold, cross_val_score, train_test_split\n",
    "from sklearn.metrics import accuracy_score"
   ]
  },
  {
   "cell_type": "code",
   "execution_count": null,
   "metadata": {},
   "outputs": [],
   "source": [
    "%%time\n",
    "clf = SGDClassifier('log')\n",
    "scores = cross_val_score(clf, X_data, y_data, scoring='accuracy', cv=5)\n",
    "clf.fit(X_data, y_data)\n",
    "\n",
    "print(scores)\n",
    "print('Mean: ', np.mean(scores))"
   ]
  },
  {
   "cell_type": "markdown",
   "metadata": {},
   "source": [
    "#### Dependency of accuracy on training data size"
   ]
  },
  {
   "cell_type": "code",
   "execution_count": null,
   "metadata": {
    "scrolled": true
   },
   "outputs": [],
   "source": [
    "%%time\n",
    "\n",
    "nb_folds = 5\n",
    "splits = 20\n",
    "scores = np.zeros((splits, nb_folds))\n",
    "dataset_size = list()\n",
    "\n",
    "for fold_id, (train_idx, test_idx) in enumerate(StratifiedKFold(nb_folds, True, 42).split(X_data, y_data)):\n",
    "    np.random.shuffle(train_idx)\n",
    "    np.random.shuffle(test_idx)\n",
    "\n",
    "    X_train, X_test = X_data[train_idx], X_data[test_idx]\n",
    "    y_train, y_test = y_data[train_idx], y_data[test_idx]\n",
    "    \n",
    "    for split_id in range(splits):\n",
    "        nb_samples = int((len(X_train)/splits) * (split_id+1))\n",
    "        dataset_size.append(nb_samples)\n",
    "        clf = SGDClassifier('log', class_weight='balanced').fit(X_train[:nb_samples], y_train[:nb_samples])\n",
    "        scores[split_id][fold_id] = accuracy_score(y_test, clf.predict(X_test))\n",
    "        \n",
    "\n",
    "plt.plot(dataset_size[:splits], scores.mean(axis=1))\n",
    "plt.title('Dependency of accuracy on training data size')\n",
    "plt.xlabel('Dataset size')\n",
    "plt.ylabel('Accuracy')\n",
    "plt.show()"
   ]
  },
  {
   "cell_type": "markdown",
   "metadata": {},
   "source": [
    "# Visualization of country transformation"
   ]
  },
  {
   "cell_type": "code",
   "execution_count": null,
   "metadata": {},
   "outputs": [],
   "source": [
    "clf = LogisticRegression(class_weight='balanced')\n",
    "# clf.fit(X_data.reshape((-1, 18*512)), y_data)\n",
    "clf.fit(X_data, y_data)"
   ]
  },
  {
   "cell_type": "code",
   "execution_count": null,
   "metadata": {},
   "outputs": [],
   "source": [
    "direction = np.tile(clf.coef_, (18, 1))"
   ]
  },
  {
   "cell_type": "code",
   "execution_count": null,
   "metadata": {},
   "outputs": [],
   "source": [
    "np.save('gender_direction.npy', direction)"
   ]
  },
  {
   "cell_type": "markdown",
   "metadata": {},
   "source": [
    "More details: https://github.com/Puzer/stylegan-encoder/blob/master/Learn_direction_in_latent_space.ipynb"
   ]
  }
 ],
 "metadata": {
  "kernelspec": {
   "display_name": "Python 3",
   "language": "python",
   "name": "python3"
  },
  "language_info": {
   "codemirror_mode": {
    "name": "ipython",
    "version": 3
   },
   "file_extension": ".py",
   "mimetype": "text/x-python",
   "name": "python",
   "nbconvert_exporter": "python",
   "pygments_lexer": "ipython3",
   "version": "3.7.3"
  }
 },
 "nbformat": 4,
 "nbformat_minor": 2
}
